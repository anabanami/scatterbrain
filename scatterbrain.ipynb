{
 "cells": [
  {
   "cell_type": "markdown",
   "metadata": {},
   "source": [
    "# S-wave scattering phase shifts"
   ]
  },
  {
   "cell_type": "code",
   "execution_count": 28,
   "metadata": {},
   "outputs": [],
   "source": [
    "from scipy.integrate import odeint\n",
    "from scipy.special import struve, yn, riccati_jn, riccati_yn\n",
    "import numpy as np\n",
    "import matplotlib\n",
    "import matplotlib.pyplot as plt"
   ]
  },
  {
   "cell_type": "code",
   "execution_count": 29,
   "metadata": {},
   "outputs": [],
   "source": [
    "matplotlib.rcParams['figure.dpi'] = 130"
   ]
  },
  {
   "cell_type": "code",
   "execution_count": 30,
   "metadata": {},
   "outputs": [],
   "source": [
    "N = 1024 # number of points\n",
    "hbar = 1.0545718e-34 # [Js]\n",
    "eV = 1.602176634e-19 # [J]\n",
    "meV = 1e-3 * eV\n",
    "au = 10e-22 * eV # [(m/V)^-2]\n",
    "e_charge = 1.60217662e-19 #[C]\n",
    "\n",
    "angstrom = 1e-10\n",
    "R = angstrom # [m]\n",
    "# excluding r = 0 to avoid division by zero\n",
    "r = np.linspace(1e-6, 100, N) * angstrom # [m]"
   ]
  },
  {
   "cell_type": "markdown",
   "metadata": {},
   "source": [
    "### Parameters form tables 1 and 2"
   ]
  },
  {
   "cell_type": "code",
   "execution_count": 31,
   "metadata": {},
   "outputs": [],
   "source": [
    "# table 1.\n",
    "r_0 = 44.6814 * angstrom # [m]\n",
    "mass_e = 9.10938356e-31 # [kg]\n",
    "mass_eff_e = 0.47 * mass_e \n",
    "mass_eff_h = 0.54  * mass_e\n",
    "mass_X = mass_eff_e + mass_eff_h\n",
    "M_red = mass_eff_e * mass_X / (mass_eff_e + mass_X) \n",
    "\n",
    "# table 2\n",
    "r_star = 34 * angstrom # only symmetric phase shift\n",
    "v_0 = -58.5 * meV\n",
    "alpha = 52 *  10**3 * au "
   ]
  },
  {
   "cell_type": "code",
   "execution_count": 32,
   "metadata": {},
   "outputs": [],
   "source": [
    "E_min = 0.1 * meV\n",
    "E_max = 60 * meV\n",
    "E = np.linspace(E_min, E_max, N)\n",
    "k = np.sqrt(2 * M_red * E) / hbar"
   ]
  },
  {
   "cell_type": "markdown",
   "metadata": {},
   "source": [
    "# IV Electron-exciton scattering\n",
    "### Variable Phase Approach for (Schmidt et al.)"
   ]
  },
  {
   "cell_type": "code",
   "execution_count": 33,
   "metadata": {},
   "outputs": [],
   "source": [
    "# for scale analysis:\n",
    "# r_0 = 44.6814 * angstrom # [m]\n",
    "# au = 10e-22 * eV # [(m/V)^-2]\n",
    "# v_0 = -58.5meV, alpha = 52 *  10**3 * au \n",
    "epsilon = 8.854e-12 \n",
    "\n",
    "def keldysh(r):\n",
    "    # equation (2)\n",
    "    V_K = (np.pi * e_charge / (2 * (4 * np.pi * epsilon) * r_0) * (struve(0, r / r_0) - yn(0, r / r_0)))\n",
    "    return V_K\n",
    "\n",
    "def V_Xe(r): \n",
    "    # equation (8)\n",
    "    r = np.array(r)\n",
    "    dr = r_0 / 1000\n",
    "    V_Xe = np.zeros_like(r)\n",
    "    V_Xe[r <= r_star] = v_0 \n",
    "    V_Xe[r > r_star] = - (alpha / 2) * ((keldysh(r[r > r_star] + dr) - keldysh(r[r > r_star])) / dr)**2\n",
    "    return V_Xe"
   ]
  },
  {
   "cell_type": "code",
   "execution_count": 34,
   "metadata": {
    "scrolled": false
   },
   "outputs": [
    {
     "data": {
      "image/png": "[encoded data removed]",
      "text/plain": [
       "<Figure size 780x520 with 1 Axes>"
      ]
     },
     "metadata": {
      "needs_background": "light"
     },
     "output_type": "display_data"
    }
   ],
   "source": [
    "plt.plot(r / angstrom, V_Xe(r))\n",
    "ylabel =plt.ylabel(r'$V_{Xe}$', fontsize=15, labelpad=20)\n",
    "ylabel.set_rotation(0)\n",
    "plt.xlabel(r'$r$ (Å)')\n",
    "plt.savefig('V_Xe_Schmidt.png')\n",
    "plt.show()"
   ]
  },
  {
   "cell_type": "markdown",
   "metadata": {},
   "source": [
    "### Implementing Eq. (32)\n",
    "$U(r) = V(r)/U_0$ where $U_0$ is the energy scale $U_0= \\hbar^2 / (2m_r r_0)^2$ (in meV).\n",
    "\n",
    " * You should make sure that your phase shift is converged with respect to the distance (because it is formally defined when $r>>r_0$). So you can try to plot the phase shift as a function of r for a fixed k to check this. (???)\n",
    " "
   ]
  },
  {
   "cell_type": "code",
   "execution_count": 35,
   "metadata": {},
   "outputs": [],
   "source": [
    "# U_0 = hbar**2 * meV / (2 * M_red * r_0)**2 \n",
    "\n",
    "# ## solve ODE using VPA for multiple k equation (32)\n",
    "# def ODE_32(delta, r, k, V_0):\n",
    "#     top = (2 * M_red * V_Xe(r) / U_0) * (np.cos(delta * riccati_jn(0, k * r )) - np.sin(delta * riccati_yn(0, k * r )))**2 ####? \n",
    "#     ddelta_dr = -(top / hbar * k ) ######### units of hbar**(-1) ?\n",
    "#     return ddelta_dr\n",
    "\n",
    "# # ODEINT solver\n",
    "# for k_i in k:\n",
    "#     delta= odeint(ODE_32, 0, r, args=(k_i, v_0))\n",
    "#     # print accumulation of phase shift:\n",
    "#     # print(delta[-1])"
   ]
  },
  {
   "cell_type": "markdown",
   "metadata": {},
   "source": [
    "### BOUND STATES"
   ]
  },
  {
   "cell_type": "markdown",
   "metadata": {},
   "source": [
    "Assume ($\\ell = 0$)"
   ]
  },
  {
   "cell_type": "markdown",
   "metadata": {},
   "source": [
    "To find the bound states of our potential, solve the radial Schrodinger wave equation:\n",
    " $\\frac{d^2 R}{dr^2} + \\frac{1}{r}\\frac{dR}{dr} - V_{Xe}(r) R = \\frac{-2 M_{Red} E}{\\hbar^2} R$"
   ]
  },
  {
   "cell_type": "markdown",
   "metadata": {},
   "source": [
    " $\\frac{d^2 R}{dr^2} + \\frac{1}{r}\\frac{dR}{dr} = (\\frac{-2 M_{Red} E}{\\hbar^2} - V_{Xe}(r))R$"
   ]
  },
  {
   "cell_type": "markdown",
   "metadata": {},
   "source": [
    " $ \\therefore (\\frac{d^2}{dr^2} + \\frac{1}{r} \\frac{d}{dr})R = (k^2 - V_{Xe}(r))R$"
   ]
  },
  {
   "cell_type": "markdown",
   "metadata": {},
   "source": [
    "then we are solving the eigenvalue problem\n",
    "$A \\overrightarrow{R} = \\lambda \\overrightarrow{R} $\n",
    "\n",
    "where $A = (\\frac{d^2}{dr^2} + \\frac{1}{r} \\frac{d}{dr})$ and $\\lambda = (k^2 - V_{Xe}(r))$"
   ]
  },
  {
   "cell_type": "markdown",
   "metadata": {},
   "source": [
    " To find BCS, In the limit of small r:"
   ]
  },
  {
   "cell_type": "markdown",
   "metadata": {},
   "source": [
    "the term\n",
    "$\\frac{1}{r} \\frac{d}{dr}R$ dominates the equation."
   ]
  },
  {
   "cell_type": "markdown",
   "metadata": {},
   "source": [
    "$ \\therefore \\frac{1}{r} \\frac{d}{dr}R = 0$"
   ]
  },
  {
   "cell_type": "markdown",
   "metadata": {},
   "source": [
    "We that we have the Neumann BC:"
   ]
  },
  {
   "cell_type": "markdown",
   "metadata": {},
   "source": [
    "$ \\therefore \\frac{d}{dr}R = 0$"
   ]
  },
  {
   "cell_type": "markdown",
   "metadata": {},
   "source": [
    "We can approximate $\\frac{d^2R}{dr^2}$, $\\frac{dR}{dr}$ using centered differences."
   ]
  },
  {
   "cell_type": "code",
   "execution_count": 56,
   "metadata": {},
   "outputs": [],
   "source": [
    "# setting up our matrices:\n",
    "A = np.zeros((N,N)) # main matrix\n",
    "dr = r_0 / 1000 # step size\n",
    "\n",
    "one_onR = np.zeros_like(A) # r is array, size: (1,1024)\n",
    "for j in range(N):\n",
    "    one_onR[j,j] = 1 / r[j]\n",
    "# print(one_onR)\n",
    "\n",
    "first_dR = np.zeros_like(A) # first derivative matrix\n",
    "for j in range(N):\n",
    "    if 0 < j < N-1:\n",
    "        first_dR[j, j-1] = -1\n",
    "        first_dR[j, j+1] = 1\n",
    "    elif j == N-1:\n",
    "        first_dR[j, j-1] = -1\n",
    "# print('this is first_dR:')\n",
    "# print(first_dR)\n",
    "\n",
    "second_dR = np.zeros_like(A) # second derivative matrix\n",
    "for j in range(N):\n",
    "    if j == 0:\n",
    "        second_dR[j, j] = -2\n",
    "        second_dR[j, j+1] = 2 # added ghostpoint \n",
    "    elif 0 < j < N-1:\n",
    "        second_dR[j, j-1] = 1\n",
    "        second_dR[j, j] = -2\n",
    "        second_dR[j, j+1] = 1\n",
    "    elif j == N-1:\n",
    "        second_dR[j, j-1] = 1      \n",
    "# print('this is second_dR:')\n",
    "# print(second_dR)\n",
    "\n",
    "A = (1/dr**2) * second_dR + (1/ (2 * dr)) * one_onR @ first_dR\n",
    "# print(A)\n",
    "#  we want to Diagonalise A\n",
    "[eigenvalues, unitary] = np.linalg.eigh(A) # unitary's columns are eigenvectors of A"
   ]
  },
  {
   "cell_type": "code",
   "execution_count": null,
   "metadata": {},
   "outputs": [],
   "source": []
  },
  {
   "cell_type": "code",
   "execution_count": null,
   "metadata": {},
   "outputs": [],
   "source": []
  },
  {
   "cell_type": "code",
   "execution_count": null,
   "metadata": {},
   "outputs": [],
   "source": []
  }
 ],
 "metadata": {
  "kernelspec": {
   "display_name": "Python 3",
   "language": "python",
   "name": "python3"
  },
  "language_info": {
   "codemirror_mode": {
    "name": "ipython",
    "version": 3
   },
   "file_extension": ".py",
   "mimetype": "text/x-python",
   "name": "python",
   "nbconvert_exporter": "python",
   "pygments_lexer": "ipython3",
   "version": "3.8.2"
  }
 },
 "nbformat": 4,
 "nbformat_minor": 4
}
