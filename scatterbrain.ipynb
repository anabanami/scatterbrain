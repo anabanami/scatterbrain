{
 "cells": [
  {
   "cell_type": "markdown",
   "metadata": {},
   "source": [
    "# S-wave scattering phase shifts"
   ]
  },
  {
   "cell_type": "code",
   "execution_count": 1,
   "metadata": {},
   "outputs": [],
   "source": [
    "from scipy.integrate import odeint\n",
    "from scipy.special import struve\n",
    "from scipy.special import yn\n",
    "import numpy as np\n",
    "import matplotlib\n",
    "import matplotlib.pyplot as plt"
   ]
  },
  {
   "cell_type": "code",
   "execution_count": 2,
   "metadata": {},
   "outputs": [],
   "source": [
    "matplotlib.rcParams['figure.dpi'] = 130"
   ]
  },
  {
   "cell_type": "markdown",
   "metadata": {},
   "source": [
    "##### SI units"
   ]
  },
  {
   "cell_type": "code",
   "execution_count": 3,
   "metadata": {},
   "outputs": [],
   "source": [
    "angstrom = 1e-10\n",
    "R = angstrom\n",
    "r = np.linspace(0, 100, 1024) * angstrom # [m]\n",
    "\n",
    "hbar = 1.0545718e-34 # [Js]\n",
    "eV = 1.602176634e-19 # [J]\n",
    "meV = 1e-3 * eV"
   ]
  },
  {
   "cell_type": "code",
   "execution_count": 4,
   "metadata": {},
   "outputs": [],
   "source": [
    "# parameters from table 1.\n",
    "r_0 = 44.6814 * angstrom # [m]\n",
    "mass_e = 9.10938356e-31 # [kg]\n",
    "mass_eff_e = 0.47 * mass_e \n",
    "mass_eff_h = 0.54  * mass_e\n",
    "mass_X = mass_eff_e + mass_eff_h\n",
    "M_red = mass_eff_e * mass_X / (mass_eff_e + mass_X) \n",
    "\n",
    "# parameters in table 2\n",
    "au = 10e-22 * eV # [(m/V)^-2]\n",
    "r_star = 34 * angstrom # only symmetric phase shift\n",
    "v_0 = -58.5 * meV\n",
    "alpha = 52 *  10**3 * au "
   ]
  },
  {
   "cell_type": "code",
   "execution_count": 5,
   "metadata": {},
   "outputs": [],
   "source": [
    "E_min = 0.1 * meV\n",
    "E_max = 60 * meV\n",
    "E = np.linspace(E_min, E_max, 1024)\n",
    "k = np.sqrt(2 * M_red * E) / hbar"
   ]
  },
  {
   "cell_type": "markdown",
   "metadata": {},
   "source": [
    "### Variable Phase Approach"
   ]
  },
  {
   "cell_type": "markdown",
   "metadata": {},
   "source": [
    "Nonlinear ODE used in VPA: \n",
    "$\\delta_\\rho'(r) = -\\frac{2 \\mu sin^{2}(\\delta_\\rho +k r)}{k}$ with IC: $\\delta_\\rho = 0$"
   ]
  },
  {
   "cell_type": "markdown",
   "metadata": {},
   "source": [
    "Solving ODE for several values of k"
   ]
  },
  {
   "cell_type": "code",
   "execution_count": 6,
   "metadata": {},
   "outputs": [],
   "source": [
    "def square_well(r, V_0):\n",
    "    # define Square well potential with adjustable depth V_0\n",
    "    V_sw = - V_0 * np.heaviside(R - r, 0)\n",
    "    return V_sw"
   ]
  },
  {
   "cell_type": "code",
   "execution_count": 7,
   "metadata": {},
   "outputs": [],
   "source": [
    "## solve ODE using VPA for multiple k in low-E Lim as rho -> inf\n",
    "def ODE(delta_rho, r, k, V_0):\n",
    "    top = 2 * M_red * square_well(r, V_0) * np.sin(k * r + delta_rho)**2\n",
    "    ddeltarho_dr = -(top/(hbar * k))\n",
    "    return ddeltarho_dr\n",
    "\n",
    "# ODEINT solver\n",
    "for k_i in k:\n",
    "    delta_rho_k = odeint(ODE, 0, r, args=(k_i, v_0))\n",
    "    ## print accumulation of phase shift:\n",
    "    # print(delta_rho_k[-1])\n",
    "    \n",
    "# # plot results\n",
    "# plt.figure()\n",
    "# plt.plot(k,delta_rho_k)\n",
    "# plt.xlabel('k?')\n",
    "# plt.ylabel(r'$\\delta_\\rho(r)$')\n",
    "# plt.show()"
   ]
  },
  {
   "cell_type": "markdown",
   "metadata": {},
   "source": [
    "# IV Electron-exciton scattering\n",
    "### (Schmidt et al.)"
   ]
  },
  {
   "cell_type": "markdown",
   "metadata": {},
   "source": [
    "We want to compare  the resulting phase shifts for $MoS_2$ in the energy range $ 0 \\leq E \\leq 60 meV$\n",
    "to <br>equation (7) **the universal low-energy behaviour of s-wave phase shifts in two dimensional systems**. \n",
    "    $$ cot(\\delta) \\approx \\pi^{-1} ln(\\frac{E}{E_1})$$"
   ]
  },
  {
   "cell_type": "markdown",
   "metadata": {},
   "source": [
    "The energy scale $E_1$ defines the 2D scattering length $a_{2D}$ if a weakly bound state (BS) exists in the spectrum close to the exciton-electron scattering threshold, $E_1$ agrees with its binding energy. "
   ]
  },
  {
   "cell_type": "markdown",
   "metadata": {},
   "source": [
    "For this calculation, you need to use dimensionless variables. This is probably easiest to implement by we effectively setting $r_0 = 1$. This means that you should define your $U(r)$ in Eq. (32) as $U(R)/U_0$ where $U_0$ is the energy scale $U_0= \\hbar^2 / (2m_r r_0)^2$ (in meV).\n",
    "\n",
    "You should make sure that your phase shift is converged with respect to the distance (because it is formally defined when $r>>r_0$). So you can try to plot the phase shift as a function of r for a fixed k to check this."
   ]
  },
  {
   "cell_type": "code",
   "execution_count": 9,
   "metadata": {},
   "outputs": [],
   "source": [
    "r₀ = 1\n",
    "\n",
    "def keldysh(r): ################## has units [m^-1] but should be dimensionless\n",
    "    # equation (2)\n",
    "    V_K = (np.pi / (2 * r_0) * (struve(0, r / r_0) - yn(0, r / r_0)))\n",
    "    return V_K\n",
    "\n",
    "def potential_Xe(r): \n",
    "    # equation (8)\n",
    "    dr = r[1] - r[0]\n",
    "    V_Xe = np.zeros_like(r)\n",
    "    V_Xe[r <= r_star] = v_0\n",
    "    V_Xe[r > r_star] = - (alpha / 2) * (np.gradient(keldysh(r[r > r_star])) / dr)**2\n",
    "    return V_Xe"
   ]
  },
  {
   "cell_type": "code",
   "execution_count": 10,
   "metadata": {},
   "outputs": [
    {
     "data": {
      "image/png": "[encoded data removed]",
      "text/plain": [
       "<Figure size 780x520 with 1 Axes>"
      ]
     },
     "metadata": {
      "needs_background": "light"
     },
     "output_type": "display_data"
    }
   ],
   "source": [
    "plt.plot(r, potential_Xe(r))\n",
    "plt.ylabel(r'$ V_{Xe}$')\n",
    "plt.xlabel(r'$r$')\n",
    "plt.show()"
   ]
  },
  {
   "cell_type": "code",
   "execution_count": 8,
   "metadata": {},
   "outputs": [],
   "source": [
    "# in limit of small k \\delta is independent of r\n",
    "# k\\cot\\delta = -1/a.\n",
    "\n",
    "# a_2D = - np.tan(delta[1]) / k\n",
    "\n",
    "#E_1 = 1 / (2 * M_red * (a_2D)**2) \n"
   ]
  },
  {
   "cell_type": "code",
   "execution_count": 11,
   "metadata": {},
   "outputs": [],
   "source": [
    "# print(f\"α = {alpha}\")\n",
    "# print(f\"V₀ = {v_0}\")\n",
    "# plt.plot(k, np.log(E_k(k) / E_1) / np.pi)\n",
    "# plt.ylabel(r'$ cot(\\delta) \\approx \\pi^{-1} ln(E/E_1)$')\n",
    "# plt.xlabel(r'$E$')\n",
    "# plt.show()"
   ]
  }
 ],
 "metadata": {
  "kernelspec": {
   "display_name": "Python 3",
   "language": "python",
   "name": "python3"
  },
  "language_info": {
   "codemirror_mode": {
    "name": "ipython",
    "version": 3
   },
   "file_extension": ".py",
   "mimetype": "text/x-python",
   "name": "python",
   "nbconvert_exporter": "python",
   "pygments_lexer": "ipython3",
   "version": "3.8.2"
  }
 },
 "nbformat": 4,
 "nbformat_minor": 4
}
