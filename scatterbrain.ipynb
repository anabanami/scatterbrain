{
 "cells": [
  {
   "cell_type": "markdown",
   "metadata": {},
   "source": [
    "# S-wave scattering phase shifts for an attractive square-well potential"
   ]
  },
  {
   "cell_type": "code",
   "execution_count": 1,
   "metadata": {},
   "outputs": [],
   "source": [
    "from scipy.integrate import odeint\n",
    "from scipy.special import struve\n",
    "from scipy.special import yn\n",
    "import numpy as np\n",
    "import matplotlib\n",
    "import matplotlib.pyplot as plt"
   ]
  },
  {
   "cell_type": "code",
   "execution_count": 2,
   "metadata": {},
   "outputs": [],
   "source": [
    "matplotlib.rcParams['figure.dpi'] = 120\n",
    "np.seterr(divide='ignore', invalid='ignore') # divide by zero? :D\n",
    "\n",
    "mu = 1\n",
    "R = 1\n",
    "# R_max = 10\n",
    "\n",
    "r = np.linspace(0, 5, 1024)\n",
    "k = np.linspace(0, 5, 1024)\n",
    "\n",
    "\n",
    "def square_well(r, V_0):\n",
    "    # define Square well potential with adjustable depth V_0\n",
    "    V_sw = - V_0 * np.heaviside(R-r, 0)\n",
    "    return V_sw\n",
    "\n",
    "def E_k(k):\n",
    "    # kinetic energy considering units of hbar=1\n",
    "    E = k**2 / (2 * mu)\n",
    "    return E\n",
    "\n",
    "def delta_0(k, V_0):\n",
    "    arg = np.sqrt(E_k(k) / (E_k(k) + V_0)) * np.tan(R * np.sqrt(2 * mu * (E_k(k) + V_0)))\n",
    "    delta_0 = np.arctan(arg) - R * np.sqrt(2 * mu * E_k(k))\n",
    "    return delta_0"
   ]
  },
  {
   "cell_type": "code",
   "execution_count": 3,
   "metadata": {},
   "outputs": [],
   "source": [
    "# plt.plot(k, delta_0(k, 0.5))\n",
    "# plt.ylabel(r'$\\delta_{0}(K)$')\n",
    "# plt.xlabel(r'$k$')\n",
    "# plt.show()"
   ]
  },
  {
   "cell_type": "code",
   "execution_count": 4,
   "metadata": {},
   "outputs": [],
   "source": [
    "# another phase shift \"stepyness\" FIX\n",
    "# k Cot(\\delta_0(k))\n",
    "# plt.figure(figsize=(4,2.7))\n",
    "# plt.plot(k, k / np.tan(phase_0(k, 0.5)))\n",
    "# plt.ylabel(r'$ k Cot(\\delta_{0}(K))$',size=10)\n",
    "# plt.xlabel(r'$k$',size=10)\n",
    "# plt.show()"
   ]
  },
  {
   "cell_type": "markdown",
   "metadata": {},
   "source": [
    "There are multiple methods used to remedy this discontinuous behaviour.\n",
    "### Variable Phase Approach"
   ]
  },
  {
   "cell_type": "markdown",
   "metadata": {},
   "source": [
    "Nonlinear ODE used in VPA: \n",
    "$\\delta_\\rho'(r) = -\\frac{2 \\mu sin^{2}(\\delta_\\rho +k r)}{k}$ with IC: $\\delta_\\rho = 0$"
   ]
  },
  {
   "cell_type": "code",
   "execution_count": 5,
   "metadata": {
    "scrolled": true
   },
   "outputs": [
    {
     "data": {
      "image/png": "[encoded data removed]",
      "text/plain": [
       "<Figure size 480x360 with 1 Axes>"
      ]
     },
     "metadata": {
      "needs_background": "light"
     },
     "output_type": "display_data"
    }
   ],
   "source": [
    "def ODE(delta_rho, r, k, V_0):\n",
    "    top = 2 * mu * square_well(r, V_0) * np.sin(k * r + delta_rho)**2\n",
    "    ddeltarho_dr = -(top/k)\n",
    "    return ddeltarho_dr\n",
    "                                 \n",
    "# solve ODE from VPA\n",
    "delta_rho = odeint(ODE, 0, r, args=(5, 5))\n",
    "# print(delta_rho)\n",
    "\n",
    "# plot results\n",
    "plt.figure(figsize=(4,3))\n",
    "plt.plot(r,delta_rho)\n",
    "plt.xlabel('r')\n",
    "plt.ylabel(r'$\\delta_\\rho(r)$')\n",
    "plt.show()"
   ]
  },
  {
   "cell_type": "markdown",
   "metadata": {},
   "source": [
    "# Trying out different well depths \n",
    "(Based on scatteringprimer.pdf ch.2).\n",
    "\n",
    "$\\ell = 0$ phase shift $\\delta_0$ (in radians) for square well with \n",
    "$ m = \\hbar = R = 1$ \n",
    "\n",
    "For $V_0$, versus energy $E = \\frac{\\hbar^2 k^2}{2m}$.\n",
    "where $V_0 = [0.25, 0.5, 1.0, 1.5, ...]$"
   ]
  },
  {
   "cell_type": "code",
   "execution_count": 6,
   "metadata": {},
   "outputs": [],
   "source": [
    "# analytic phase shift using arctan(tan((\\delta_0(k))))\n",
    "# v_0 = [0.25, 0.5, 1.0, 1.5, 2.0, 2.5, 3.0]\n",
    "# for i in v_0:\n",
    "#     linei, = plt.plot(k, np.arctan(np.tan(delta_0(k, i))), label=f\"$V_0 = {i}$\")\n",
    "#     plt.legend(loc='center right', bbox_to_anchor=(1.3, 0.5))\n",
    "\n",
    "# plt.ylim(-2, 2)\n",
    "# plt.xlim(0, 5)\n",
    "# plt.ylabel(r'$\\delta_\\rho(r)$')\n",
    "# plt.xlabel(r'$E$',size=14)\n",
    "# plt.show()"
   ]
  },
  {
   "cell_type": "markdown",
   "metadata": {},
   "source": [
    "Notice that $V_0$ increases, a bound state appears.\n",
    "and as one goes from V_0 = 1 to V 0 = 1.5,  the phase shift becomes negative.\n",
    "The apparent discontinuity in the phase shift for V 0 = 1.5 is really just an ambiguity in angle: here $\\delta$ is restricted to be between $−\\pi$ and $+\\pi$ radians.\n",
    "Because of this ambiguity, it is sometimes convenient to plot \n",
    "$k cot(\\delta_0)$\n",
    "\n",
    "### How do you explain the results in terms of Levinson's theorem?\n",
    "\n",
    "# IV Electron-exciton scattering\n",
    "### (Schmidt et al.)\n",
    "\n",
    "We want to compare  the resulting phase shifts for $MoS_2$ in the energy range $ 0 \\leq E \\leq 60 meV$\n",
    "to <br>equation (7) **the universal low-energy behaviour of s-wave phase shifts in two dimensional systems**. \n",
    "    $$ cot(\\delta) \\approx \\pi^{-1} ln(\\frac{E}{E_1})$$"
   ]
  },
  {
   "cell_type": "markdown",
   "metadata": {},
   "source": [
    "The energy scale $E_1$ defines the 2D scattering length $a_{2D}$ if a weakly bound state (BS) exists in the spectrum close to the exciton-electron scattering threshold, $E_1$ agrees with its binding energy. "
   ]
  },
  {
   "cell_type": "code",
   "execution_count": 7,
   "metadata": {},
   "outputs": [],
   "source": [
    "# parameters from table 1.\n",
    "angstrom = 1e-10\n",
    "r_0 = 44.6814 * angstrom # [m]\n",
    "mass_e = 9.10938356e-31 # [kg]\n",
    "mass_eff_e = 0.47 * mass_e \n",
    "mass_eff_h = 0.54  * mass_e\n",
    "mass_X = mass_eff_e + mass_eff_h\n",
    "M_red = mass_eff_e * mass_X / (mass_eff_e + mass_X) \n",
    "\n",
    "# parameters in table 2\n",
    "eV = 1.602176634e-19 # [eV]\n",
    "meV = 1e-3 * eV\n",
    "r_star = 34 * angstrom\n",
    "v_0 = -58.5 * meV\n",
    "\n",
    "# E_1 = 1 / (2 * M_red * (a_2D)**2) # what is a_2D ???\n",
    "\n",
    "def keldysh(r):\n",
    "    # equation (2)\n",
    "    V_K = (np.pi / (2 * r_0) * (special.struve(0, r/r_0) - special.yn(0, r/ r_0)))\n",
    "    return V_K\n",
    "\n",
    "def potential_Xe(r):\n",
    "    # equation (8)\n",
    "    if r <= r_star:\n",
    "        V_Xe = v_0\n",
    "    else:\n",
    "         V_Xe = - (alpha / 2) * (keldysh(r).diff(r))**2 # WHAT IS ALPHA ???\n",
    "    return V_Xe"
   ]
  },
  {
   "cell_type": "code",
   "execution_count": 8,
   "metadata": {},
   "outputs": [],
   "source": [
    "# plt.plot(k, np.log(E(k)/ E_1) / np.pi)\n",
    "# plt.ylabel(r'$pprox cot(\\delta)$')\n",
    "# plt.xlabel(r'$E$',size=14)\n",
    "# plt.show()"
   ]
  },
  {
   "cell_type": "markdown",
   "metadata": {},
   "source": [
    "we can interpret the y-intercept and slope of $k cot(\\delta_0)$ in terms of fundamental quantities called the **scattering length** and **effective range**. Again, as the y-intercept passes through zero, we see that this corresponds to a bound state.\n",
    "\n",
    "#### why are bound states closer the deeper the well is?"
   ]
  }
 ],
 "metadata": {
  "kernelspec": {
   "display_name": "Python 3",
   "language": "python",
   "name": "python3"
  },
  "language_info": {
   "codemirror_mode": {
    "name": "ipython",
    "version": 3
   },
   "file_extension": ".py",
   "mimetype": "text/x-python",
   "name": "python",
   "nbconvert_exporter": "python",
   "pygments_lexer": "ipython3",
   "version": "3.8.2"
  }
 },
 "nbformat": 4,
 "nbformat_minor": 4
}
