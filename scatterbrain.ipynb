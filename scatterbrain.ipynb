{
 "cells": [
  {
   "cell_type": "markdown",
   "metadata": {},
   "source": [
    "# S-wave scattering phase shifts"
   ]
  },
  {
   "cell_type": "code",
   "execution_count": 92,
   "metadata": {},
   "outputs": [],
   "source": [
    "from scipy.integrate import odeint\n",
    "from scipy.special import struve, yn, riccati_jn, riccati_yn\n",
    "import numpy as np\n",
    "import matplotlib\n",
    "import matplotlib.pyplot as plt"
   ]
  },
  {
   "cell_type": "markdown",
   "metadata": {},
   "source": [
    "### SI units"
   ]
  },
  {
   "cell_type": "code",
   "execution_count": 95,
   "metadata": {},
   "outputs": [],
   "source": [
    "# SI units\n",
    "N = 1024 # number of points\n",
    "hbar = 1.0545718e-34 # [Js]\n",
    "eV = 1.602176634e-19 # [J]\n",
    "meV = 1e-3 * eV\n",
    "e_charge = 1.60217662e-19 # [C]\n",
    "au = 1.64877727436e-41 # [C^2 m^2 J^(-1)] \n",
    "\n",
    "angstrom = 1e-10 # [m]\n",
    "R = angstrom\n",
    "# excluding r = 0 to avoid division by zero\n",
    "r = np.linspace(1e-6, 100, N) * angstrom"
   ]
  },
  {
   "cell_type": "markdown",
   "metadata": {},
   "source": [
    "### Parameters form tables 1 and 2"
   ]
  },
  {
   "cell_type": "code",
   "execution_count": 108,
   "metadata": {},
   "outputs": [
    {
     "name": "stdout",
     "output_type": "stream",
     "text": [
      "The reduced mass: 0.3207432432432432\n",
      "The polarisability: 8.573641826672e-37\n"
     ]
    }
   ],
   "source": [
    "# table 1.\n",
    "r_0 = 44.6814 * angstrom # [m]\n",
    "mass_e = 9.10938356e-31 # [kg]\n",
    "mass_eff_e = 0.47 * mass_e \n",
    "mass_eff_h = 0.54  * mass_e\n",
    "mass_X = mass_eff_e + mass_eff_h\n",
    "M_red = mass_eff_e * mass_X / (mass_eff_e + mass_X) \n",
    "print('The reduced mass:', M_red / mass_e)\n",
    "\n",
    "# table 2\n",
    "r_star = 34 * angstrom # only symmetric phase shift\n",
    "v_0 = -58.5 * meV\n",
    "alpha = 52 * (10**3) * au \n",
    "print('The polarisability:',alpha)"
   ]
  },
  {
   "cell_type": "markdown",
   "metadata": {},
   "source": [
    "### Energy and wave vector"
   ]
  },
  {
   "cell_type": "code",
   "execution_count": 97,
   "metadata": {},
   "outputs": [],
   "source": [
    "E_min = 0.1 * meV\n",
    "E_max = 60 * meV\n",
    "E = np.linspace(E_min, E_max, N)\n",
    "k = np.sqrt(2 * M_red * E) / hbar"
   ]
  },
  {
   "cell_type": "markdown",
   "metadata": {},
   "source": [
    "# IV Electron-exciton scattering\n",
    "### (Schmidt et al.)"
   ]
  },
  {
   "cell_type": "code",
   "execution_count": 112,
   "metadata": {},
   "outputs": [],
   "source": [
    "# au = 1.64877727436e-41 / eV # [C^2 m^2] \n",
    "# alpha = 52 * 10**3 * au\n",
    "\n",
    "epsilon = 8.854e-12 \n",
    "\n",
    "def keldysh(r):\n",
    "    # equation (2) \n",
    "    # [V]\n",
    "    V_K = (np.pi / (2 * (4 * np.pi * epsilon) * r_0) * (struve(0, r / r_0) - yn(0, r / r_0)))\n",
    "    return V_K\n",
    "\n",
    "def V_Xe(r): \n",
    "    # equation (8)\n",
    "    # [J]    \n",
    "    r = np.array(r)\n",
    "    dr = r_0 / 1000\n",
    "    V_Xe = np.zeros_like(r)\n",
    "    V_Xe[r <= r_star] = v_0 \n",
    "    V_Xe[r > r_star] = - (alpha * e_charge **2 / 2) * ((keldysh(r[r > r_star] + dr) - keldysh(r[r > r_star])) / dr)**2\n",
    "    return V_Xe"
   ]
  },
  {
   "cell_type": "code",
   "execution_count": 113,
   "metadata": {
    "scrolled": false
   },
   "outputs": [
    {
     "data": {
      "image/png": "[encoded data removed]",
      "text/plain": [
       "<Figure size 780x520 with 1 Axes>"
      ]
     },
     "metadata": {
      "needs_background": "light"
     },
     "output_type": "display_data"
    }
   ],
   "source": [
    "plt.plot(r / angstrom, V_Xe(r) / meV)\n",
    "ylabel = plt.ylabel(r'$V_{Xe}$ (meV)', fontsize=10)\n",
    "plt.xlabel(r'$r$ (Å)')\n",
    "plt.savefig('V_Xe_Schmidt.png')\n",
    "plt.show()"
   ]
  },
  {
   "cell_type": "markdown",
   "metadata": {},
   "source": [
    "### BOUND STATES"
   ]
  },
  {
   "cell_type": "markdown",
   "metadata": {},
   "source": [
    "for the time being, assume ($\\ell = 0$)"
   ]
  },
  {
   "cell_type": "markdown",
   "metadata": {},
   "source": [
    "To find the bound states of our potential, solve the radial Schrodinger wave equation:\n",
    " $\\frac{d^2 R}{dr^2} + \\frac{1}{r}\\frac{dR}{dr} - \\frac{2 M_{red}}{\\hbar^2} V_{Xe}(r) R = \\frac{-2 M_{Red} E}{\\hbar^2} R$"
   ]
  },
  {
   "cell_type": "markdown",
   "metadata": {},
   "source": [
    " $\\frac{d^2 R}{dr^2} + \\frac{1}{r}\\frac{dR}{dr} - \\frac{2 M_{red}}{\\hbar^2} V_{Xe}(r)R = \\frac{-2 M_{Red} E}{\\hbar^2}R$"
   ]
  },
  {
   "cell_type": "markdown",
   "metadata": {},
   "source": [
    " $(\\frac{d^2}{dr^2} + \\frac{1}{r}\\frac{d}{dr} - \\frac{2 M_{red}}{\\hbar^2} V_{Xe}(r))R = -k^2 R$"
   ]
  },
  {
   "cell_type": "markdown",
   "metadata": {},
   "source": [
    "then we are solving the eigenvalue problem\n",
    "$A \\overrightarrow{R} = \\lambda \\overrightarrow{R} $\n",
    "\n",
    "where $A = \\frac{d^2}{dr^2} + \\frac{1}{r} \\frac{d}{dr} - \\frac{2 M_{red}}{\\hbar^2} V_{Xe}(r)$ and $\\lambda = -k^2$"
   ]
  },
  {
   "cell_type": "markdown",
   "metadata": {},
   "source": [
    " To find BCS, In the limit of small r:"
   ]
  },
  {
   "cell_type": "markdown",
   "metadata": {},
   "source": [
    "the term\n",
    "$\\frac{1}{r} \\frac{d}{dr}R$ dominates the equation."
   ]
  },
  {
   "cell_type": "markdown",
   "metadata": {},
   "source": [
    "$ \\therefore \\frac{1}{r} \\frac{d}{dr}R = 0$"
   ]
  },
  {
   "cell_type": "markdown",
   "metadata": {},
   "source": [
    "We that we have the Neumann BC:"
   ]
  },
  {
   "cell_type": "markdown",
   "metadata": {},
   "source": [
    "$ \\therefore \\frac{d}{dr}R = 0$"
   ]
  },
  {
   "cell_type": "markdown",
   "metadata": {},
   "source": [
    "Now we can approximate $\\frac{d^2R}{dr^2}$, $\\frac{dR}{dr}$ using centered differences."
   ]
  },
  {
   "cell_type": "code",
   "execution_count": 114,
   "metadata": {},
   "outputs": [],
   "source": [
    "# setting up our matrices:\n",
    "A = np.zeros((N,N)) # main matrix\n",
    "dr = r[1] - r[0] # step size\n",
    "\n",
    "one_onr = np.zeros_like(A) #1/r matrix\n",
    "for j in range(N):\n",
    "    one_onr[j,j] = 1 / r[j] # r is array, size: (1,N)\n",
    "# print('this is one_onr:')\n",
    "# print(one_onr)\n",
    "\n",
    "first_dR = np.zeros_like(A) # first derivative matrix\n",
    "for j in range(N):\n",
    "    if 0 < j < N-1:\n",
    "        first_dR[j, j-1] = -1\n",
    "        first_dR[j, j+1] = 1\n",
    "    elif j == N-1:\n",
    "        first_dR[j, j-1] = -1\n",
    "# print('this is first_dR:')\n",
    "# print(first_dR)\n",
    "\n",
    "second_dR = np.zeros_like(A) # second derivative matrix\n",
    "for j in range(N):\n",
    "    if j == 0:\n",
    "#         second_dR[j, j] = -2\n",
    "#         second_dR[j, j+1] = 2 # added ghostpoint \n",
    "        second_dR[j, j] = -2\n",
    "        second_dR[j, j+1] = 2\n",
    "    \n",
    "    elif 0 < j < N-1:\n",
    "        second_dR[j, j-1] = 1\n",
    "        second_dR[j, j] = -2\n",
    "        second_dR[j, j+1] = 1\n",
    "    elif j == N-1:\n",
    "        second_dR[j, j-1] = 1      \n",
    "# print('this is second_dR:')\n",
    "# print(second_dR)\n",
    "\n",
    "Schmidt_matrix = np.zeros_like(A)\n",
    "for j in range(N):\n",
    "    Schmidt_matrix[j, j] = (2 * M_red / hbar**2) * V_Xe(r[j])\n",
    "# print('this is Schmidt_matrix')\n",
    "# print(Schmidt_matrix)\n",
    "\n",
    "\n",
    "# A = (1 / dr**2) * second_dR + (1 / (2 * dr)) * one_onr @ first_dR - Schmidt_matrix\n",
    "\n",
    "A = (1 / dr**2) * second_dR - Schmidt_matrix ######## removed: (1 / (2 * dr)) * one_onr @ first_dR\n",
    "\n",
    "# we want to Diagonalise A\n",
    "eigenvalues, unitary = np.linalg.eigh(A) # unitary's columns are eigenvectors of A"
   ]
  },
  {
   "cell_type": "markdown",
   "metadata": {},
   "source": [
    "### Test"
   ]
  },
  {
   "cell_type": "code",
   "execution_count": 115,
   "metadata": {
    "scrolled": true
   },
   "outputs": [
    {
     "name": "stdout",
     "output_type": "stream",
     "text": [
      "The ground state energy [meV]: -15.407114639946649\n"
     ]
    }
   ],
   "source": [
    "E_ground = -(eigenvalues[1022] * hbar**2) / (2 * M_red)\n",
    "print('The ground state energy [meV]:', E_ground / meV)"
   ]
  },
  {
   "cell_type": "code",
   "execution_count": 116,
   "metadata": {},
   "outputs": [
    {
     "name": "stdout",
     "output_type": "stream",
     "text": [
      "eigenenergy 1022 : -2.468491907348184e-21\n"
     ]
    },
    {
     "data": {
      "image/png": "[encoded data removed]",
      "text/plain": [
       "<Figure size 780x520 with 1 Axes>"
      ]
     },
     "metadata": {
      "needs_background": "light"
     },
     "output_type": "display_data"
    }
   ],
   "source": [
    "# for i in range(1022,1017,-1):\n",
    "    \n",
    "i = 1022\n",
    "E_i = -(eigenvalues[i] * hbar**2) / (2 * M_red)\n",
    "plt.plot(r / angstrom, v_0 * unitary[:, i] / (abs(unitary[:, i]).max() * meV) + E_i / meV, label=\"$R_{ground}$\")\n",
    "print('eigenenergy', i, ':', E_i)\n",
    "plt.legend()\n",
    "    \n",
    "plt.plot(r / angstrom, V_Xe(r) / meV)\n",
    "ylabel = plt.ylabel(r'$V_Xe$ (meV)')# ' and $R_{ground}$ (arb) ')\n",
    "plt.xlabel(r'$r$ (Å)')\n",
    "plt.savefig('state.png')\n",
    "plt.show()"
   ]
  },
  {
   "cell_type": "markdown",
   "metadata": {},
   "source": [
    "## Variable Phase Approach for (Schmidt et al.)\n",
    "### Implementing Eq. (32)\n",
    "$U(r) = V(r)/U_0$ where $U_0$ is the energy scale $U_0= \\hbar^2 / (2m_r r_0)^2$ (in meV).\n",
    "\n",
    " * You should make sure that your phase shift is converged with respect to the distance (because it is formally defined when $r>>r_0$). So you can try to plot the phase shift as a function of r for a fixed k to check this. (???)\n",
    " "
   ]
  },
  {
   "cell_type": "code",
   "execution_count": 29,
   "metadata": {},
   "outputs": [],
   "source": [
    "# U_0 = hbar**2 * meV / (2 * M_red * r_0)**2 \n",
    "\n",
    "# # solve ODE using VPA for multiple k equation (32)\n",
    "# def ODE_32(delta, r, k, V_0):\n",
    "#     top = (2 * M_red * V_Xe(r) / U_0) * (np.cos(delta * riccati_jn(0, k * r )) - np.sin(delta * riccati_yn(0, k * r )))**2 ####? \n",
    "#     ddelta_dr = -(top / hbar * k ) ######### units of hbar**(-1) ?\n",
    "#     return ddelta_dr\n",
    "\n",
    "# # ODEINT solver\n",
    "# for k_i in k:\n",
    "#     delta= odeint(ODE_32, 0, r, args=(k_i, v_0))\n",
    "#     # print accumulation of phase shift:\n",
    "#     # print(delta[-1])"
   ]
  }
 ],
 "metadata": {
  "kernelspec": {
   "display_name": "Python 3",
   "language": "python",
   "name": "python3"
  },
  "language_info": {
   "codemirror_mode": {
    "name": "ipython",
    "version": 3
   },
   "file_extension": ".py",
   "mimetype": "text/x-python",
   "name": "python",
   "nbconvert_exporter": "python",
   "pygments_lexer": "ipython3",
   "version": "3.8.2"
  }
 },
 "nbformat": 4,
 "nbformat_minor": 4
}
